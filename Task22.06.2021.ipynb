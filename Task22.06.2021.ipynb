{
 "cells": [
  {
   "cell_type": "markdown",
   "id": "ada8fd38",
   "metadata": {},
   "source": [
    "# Binary Classification with Logistic regression"
   ]
  },
  {
   "cell_type": "markdown",
   "id": "3a15b3e6",
   "metadata": {},
   "source": [
    "## Import Libraries"
   ]
  },
  {
   "cell_type": "code",
   "execution_count": 120,
   "id": "dcdc00d6",
   "metadata": {},
   "outputs": [
    {
     "name": "stdout",
     "output_type": "stream",
     "text": [
      "········\n"
     ]
    }
   ],
   "source": [
    "# conecting inteface between python and mysql server database\n",
    "import pymysql\n",
    "# create engine is a callable within sqlalchemy\n",
    "from sqlalchemy import create_engine\n",
    "# it prompts the user and reads the user input as password\n",
    "import getpass\n",
    "#realworld data analysis package in python\n",
    "import pandas as pd\n",
    "# library used for working with arrays and also has many mathematical functions\n",
    "import numpy as np\n",
    "# data visualization library based on matplotlib\n",
    "import seaborn as sns\n",
    "# plotting library\n",
    "import matplotlib.pyplot as plt\n",
    "password= getpass.getpass()"
   ]
  },
  {
   "cell_type": "markdown",
   "id": "24353f94",
   "metadata": {},
   "source": [
    "## Connection to sql"
   ]
  },
  {
   "cell_type": "code",
   "execution_count": 121,
   "id": "cf7c8d4d",
   "metadata": {},
   "outputs": [],
   "source": [
    "# connection string\n",
    "connection_string = 'mysql+pymysql://root:' + password + '@localhost/bank'\n",
    "engine= create_engine(connection_string)"
   ]
  },
  {
   "cell_type": "code",
   "execution_count": 122,
   "id": "298b8ade",
   "metadata": {},
   "outputs": [],
   "source": [
    "# Sql query to find the binary classification, here how likely the customer is good or bad\n",
    "df=pd.read_sql_query('''\n",
    "select l.loan_id, l.status, count(distinct t.trans_id) as nooftrans,\n",
    "DATEDIFF(19981231, convert(a.date,date)) as ageindays, \n",
    "d.A12 as 95unemp, d.A13 as 96unemp, dp.type,\n",
    "l.amount as loanamount, c.birth_number, d.A15 as crime95, d.A16 as crime96,\n",
    "round((l.amount-l.payments)/l.amount,2) as ratiopaid\n",
    "from loan l\n",
    "left join trans t\n",
    "using(account_id)\n",
    "left join account a\n",
    "using(account_id)\n",
    "left join district d\n",
    "on a.district_id = d.A1\n",
    "left join disp dp\n",
    "on a.account_id= dp.account_id \n",
    "left join client c\n",
    "using(client_id)\n",
    "where l.status in('A','B') and dp.type='OWNER'\n",
    "group by loan_id, l.amount, status, d.A12, d.A13, c.birth_number, d.A15, d.A16, DATEDIFF(19981231, convert(a.date,date)),\n",
    " dp.type, round((l.amount-l.payments)/l.amount,2)\n",
    "''', engine)"
   ]
  },
  {
   "cell_type": "code",
   "execution_count": 123,
   "id": "c180e6d9",
   "metadata": {},
   "outputs": [
    {
     "data": {
      "text/html": [
       "<div>\n",
       "<style scoped>\n",
       "    .dataframe tbody tr th:only-of-type {\n",
       "        vertical-align: middle;\n",
       "    }\n",
       "\n",
       "    .dataframe tbody tr th {\n",
       "        vertical-align: top;\n",
       "    }\n",
       "\n",
       "    .dataframe thead th {\n",
       "        text-align: right;\n",
       "    }\n",
       "</style>\n",
       "<table border=\"1\" class=\"dataframe\">\n",
       "  <thead>\n",
       "    <tr style=\"text-align: right;\">\n",
       "      <th></th>\n",
       "      <th>loan_id</th>\n",
       "      <th>status</th>\n",
       "      <th>nooftrans</th>\n",
       "      <th>ageindays</th>\n",
       "      <th>95unemp</th>\n",
       "      <th>96unemp</th>\n",
       "      <th>type</th>\n",
       "      <th>loanamount</th>\n",
       "      <th>birth_number</th>\n",
       "      <th>crime95</th>\n",
       "      <th>crime96</th>\n",
       "      <th>ratiopaid</th>\n",
       "    </tr>\n",
       "  </thead>\n",
       "  <tbody>\n",
       "    <tr>\n",
       "      <th>0</th>\n",
       "      <td>4959</td>\n",
       "      <td>A</td>\n",
       "      <td>374</td>\n",
       "      <td>2134</td>\n",
       "      <td>0.29</td>\n",
       "      <td>0.43</td>\n",
       "      <td>OWNER</td>\n",
       "      <td>80952</td>\n",
       "      <td>450204</td>\n",
       "      <td>85677</td>\n",
       "      <td>99107</td>\n",
       "      <td>0.96</td>\n",
       "    </tr>\n",
       "    <tr>\n",
       "      <th>1</th>\n",
       "      <td>4961</td>\n",
       "      <td>B</td>\n",
       "      <td>259</td>\n",
       "      <td>1364</td>\n",
       "      <td>1.51</td>\n",
       "      <td>2.07</td>\n",
       "      <td>OWNER</td>\n",
       "      <td>30276</td>\n",
       "      <td>395423</td>\n",
       "      <td>2299</td>\n",
       "      <td>2354</td>\n",
       "      <td>0.92</td>\n",
       "    </tr>\n",
       "    <tr>\n",
       "      <th>2</th>\n",
       "      <td>4962</td>\n",
       "      <td>A</td>\n",
       "      <td>225</td>\n",
       "      <td>886</td>\n",
       "      <td>4.09</td>\n",
       "      <td>4.72</td>\n",
       "      <td>OWNER</td>\n",
       "      <td>30276</td>\n",
       "      <td>620209</td>\n",
       "      <td>5623</td>\n",
       "      <td>5887</td>\n",
       "      <td>0.92</td>\n",
       "    </tr>\n",
       "    <tr>\n",
       "      <th>3</th>\n",
       "      <td>4973</td>\n",
       "      <td>A</td>\n",
       "      <td>295</td>\n",
       "      <td>1534</td>\n",
       "      <td>1.12</td>\n",
       "      <td>1.54</td>\n",
       "      <td>OWNER</td>\n",
       "      <td>165960</td>\n",
       "      <td>445613</td>\n",
       "      <td>1874</td>\n",
       "      <td>1913</td>\n",
       "      <td>0.96</td>\n",
       "    </tr>\n",
       "    <tr>\n",
       "      <th>4</th>\n",
       "      <td>4986</td>\n",
       "      <td>A</td>\n",
       "      <td>209</td>\n",
       "      <td>970</td>\n",
       "      <td>4.75</td>\n",
       "      <td>5.44</td>\n",
       "      <td>OWNER</td>\n",
       "      <td>102876</td>\n",
       "      <td>420128</td>\n",
       "      <td>18782</td>\n",
       "      <td>18347</td>\n",
       "      <td>0.92</td>\n",
       "    </tr>\n",
       "  </tbody>\n",
       "</table>\n",
       "</div>"
      ],
      "text/plain": [
       "   loan_id status  nooftrans  ageindays  95unemp  96unemp   type  loanamount  \\\n",
       "0     4959      A        374       2134     0.29     0.43  OWNER       80952   \n",
       "1     4961      B        259       1364     1.51     2.07  OWNER       30276   \n",
       "2     4962      A        225        886     4.09     4.72  OWNER       30276   \n",
       "3     4973      A        295       1534     1.12     1.54  OWNER      165960   \n",
       "4     4986      A        209        970     4.75     5.44  OWNER      102876   \n",
       "\n",
       "   birth_number  crime95  crime96  ratiopaid  \n",
       "0        450204    85677    99107       0.96  \n",
       "1        395423     2299     2354       0.92  \n",
       "2        620209     5623     5887       0.92  \n",
       "3        445613     1874     1913       0.96  \n",
       "4        420128    18782    18347       0.92  "
      ]
     },
     "execution_count": 123,
     "metadata": {},
     "output_type": "execute_result"
    }
   ],
   "source": [
    "# viewing first few rows of the data and all the columns\n",
    "df.head()"
   ]
  },
  {
   "cell_type": "markdown",
   "id": "ea238172",
   "metadata": {},
   "source": [
    "## EDA Explotory data analysis get to know the data"
   ]
  },
  {
   "cell_type": "code",
   "execution_count": 125,
   "id": "d9f4e3f3",
   "metadata": {},
   "outputs": [
    {
     "name": "stdout",
     "output_type": "stream",
     "text": [
      "<class 'pandas.core.frame.DataFrame'>\n",
      "RangeIndex: 234 entries, 0 to 233\n",
      "Data columns (total 12 columns):\n",
      " #   Column        Non-Null Count  Dtype  \n",
      "---  ------        --------------  -----  \n",
      " 0   loan_id       234 non-null    int64  \n",
      " 1   status        234 non-null    object \n",
      " 2   nooftrans     234 non-null    int64  \n",
      " 3   ageindays     234 non-null    int64  \n",
      " 4   95unemp       234 non-null    float64\n",
      " 5   96unemp       234 non-null    float64\n",
      " 6   type          234 non-null    object \n",
      " 7   loanamount    234 non-null    int64  \n",
      " 8   birth_number  234 non-null    int64  \n",
      " 9   crime95       234 non-null    int64  \n",
      " 10  crime96       234 non-null    int64  \n",
      " 11  ratiopaid     234 non-null    float64\n",
      "dtypes: float64(3), int64(7), object(2)\n",
      "memory usage: 22.1+ KB\n"
     ]
    }
   ],
   "source": [
    "# this gives the information about the data especially to know if null values are present\n",
    "df.info()"
   ]
  },
  {
   "cell_type": "code",
   "execution_count": 126,
   "id": "1dc66858",
   "metadata": {},
   "outputs": [
    {
     "data": {
      "text/html": [
       "<div>\n",
       "<style scoped>\n",
       "    .dataframe tbody tr th:only-of-type {\n",
       "        vertical-align: middle;\n",
       "    }\n",
       "\n",
       "    .dataframe tbody tr th {\n",
       "        vertical-align: top;\n",
       "    }\n",
       "\n",
       "    .dataframe thead th {\n",
       "        text-align: right;\n",
       "    }\n",
       "</style>\n",
       "<table border=\"1\" class=\"dataframe\">\n",
       "  <thead>\n",
       "    <tr style=\"text-align: right;\">\n",
       "      <th></th>\n",
       "      <th>loan_id</th>\n",
       "      <th>nooftrans</th>\n",
       "      <th>ageindays</th>\n",
       "      <th>95unemp</th>\n",
       "      <th>96unemp</th>\n",
       "      <th>loanamount</th>\n",
       "      <th>birth_number</th>\n",
       "      <th>crime95</th>\n",
       "      <th>crime96</th>\n",
       "      <th>ratiopaid</th>\n",
       "    </tr>\n",
       "  </thead>\n",
       "  <tbody>\n",
       "    <tr>\n",
       "      <th>count</th>\n",
       "      <td>234.000000</td>\n",
       "      <td>234.000000</td>\n",
       "      <td>234.000000</td>\n",
       "      <td>234.000000</td>\n",
       "      <td>234.000000</td>\n",
       "      <td>234.000000</td>\n",
       "      <td>234.000000</td>\n",
       "      <td>234.000000</td>\n",
       "      <td>234.000000</td>\n",
       "      <td>234.000000</td>\n",
       "    </tr>\n",
       "    <tr>\n",
       "      <th>mean</th>\n",
       "      <td>6233.803419</td>\n",
       "      <td>317.794872</td>\n",
       "      <td>1633.615385</td>\n",
       "      <td>2.867735</td>\n",
       "      <td>3.519487</td>\n",
       "      <td>98143.435897</td>\n",
       "      <td>579128.367521</td>\n",
       "      <td>17469.858974</td>\n",
       "      <td>19639.179487</td>\n",
       "      <td>0.945513</td>\n",
       "    </tr>\n",
       "    <tr>\n",
       "      <th>std</th>\n",
       "      <td>680.590147</td>\n",
       "      <td>101.515938</td>\n",
       "      <td>458.123807</td>\n",
       "      <td>1.986507</td>\n",
       "      <td>2.266641</td>\n",
       "      <td>72013.383242</td>\n",
       "      <td>129120.756354</td>\n",
       "      <td>29906.361998</td>\n",
       "      <td>34746.947993</td>\n",
       "      <td>0.023290</td>\n",
       "    </tr>\n",
       "    <tr>\n",
       "      <th>min</th>\n",
       "      <td>4959.000000</td>\n",
       "      <td>108.000000</td>\n",
       "      <td>550.000000</td>\n",
       "      <td>0.000000</td>\n",
       "      <td>0.430000</td>\n",
       "      <td>4980.000000</td>\n",
       "      <td>350721.000000</td>\n",
       "      <td>0.000000</td>\n",
       "      <td>888.000000</td>\n",
       "      <td>0.920000</td>\n",
       "    </tr>\n",
       "    <tr>\n",
       "      <th>25%</th>\n",
       "      <td>5684.750000</td>\n",
       "      <td>228.250000</td>\n",
       "      <td>1224.250000</td>\n",
       "      <td>1.390000</td>\n",
       "      <td>1.960000</td>\n",
       "      <td>45039.000000</td>\n",
       "      <td>465172.000000</td>\n",
       "      <td>2157.500000</td>\n",
       "      <td>2252.000000</td>\n",
       "      <td>0.920000</td>\n",
       "    </tr>\n",
       "    <tr>\n",
       "      <th>50%</th>\n",
       "      <td>6300.000000</td>\n",
       "      <td>336.500000</td>\n",
       "      <td>1847.500000</td>\n",
       "      <td>2.790000</td>\n",
       "      <td>3.600000</td>\n",
       "      <td>80646.000000</td>\n",
       "      <td>580767.000000</td>\n",
       "      <td>3804.000000</td>\n",
       "      <td>3894.000000</td>\n",
       "      <td>0.960000</td>\n",
       "    </tr>\n",
       "    <tr>\n",
       "      <th>75%</th>\n",
       "      <td>6756.750000</td>\n",
       "      <td>389.500000</td>\n",
       "      <td>2029.750000</td>\n",
       "      <td>4.090000</td>\n",
       "      <td>4.772500</td>\n",
       "      <td>126960.000000</td>\n",
       "      <td>685783.750000</td>\n",
       "      <td>9878.000000</td>\n",
       "      <td>10108.000000</td>\n",
       "      <td>0.960000</td>\n",
       "    </tr>\n",
       "    <tr>\n",
       "      <th>max</th>\n",
       "      <td>7308.000000</td>\n",
       "      <td>548.000000</td>\n",
       "      <td>2178.000000</td>\n",
       "      <td>7.340000</td>\n",
       "      <td>9.400000</td>\n",
       "      <td>464520.000000</td>\n",
       "      <td>805709.000000</td>\n",
       "      <td>85677.000000</td>\n",
       "      <td>99107.000000</td>\n",
       "      <td>0.980000</td>\n",
       "    </tr>\n",
       "  </tbody>\n",
       "</table>\n",
       "</div>"
      ],
      "text/plain": [
       "           loan_id   nooftrans    ageindays     95unemp     96unemp  \\\n",
       "count   234.000000  234.000000   234.000000  234.000000  234.000000   \n",
       "mean   6233.803419  317.794872  1633.615385    2.867735    3.519487   \n",
       "std     680.590147  101.515938   458.123807    1.986507    2.266641   \n",
       "min    4959.000000  108.000000   550.000000    0.000000    0.430000   \n",
       "25%    5684.750000  228.250000  1224.250000    1.390000    1.960000   \n",
       "50%    6300.000000  336.500000  1847.500000    2.790000    3.600000   \n",
       "75%    6756.750000  389.500000  2029.750000    4.090000    4.772500   \n",
       "max    7308.000000  548.000000  2178.000000    7.340000    9.400000   \n",
       "\n",
       "          loanamount   birth_number       crime95       crime96   ratiopaid  \n",
       "count     234.000000     234.000000    234.000000    234.000000  234.000000  \n",
       "mean    98143.435897  579128.367521  17469.858974  19639.179487    0.945513  \n",
       "std     72013.383242  129120.756354  29906.361998  34746.947993    0.023290  \n",
       "min      4980.000000  350721.000000      0.000000    888.000000    0.920000  \n",
       "25%     45039.000000  465172.000000   2157.500000   2252.000000    0.920000  \n",
       "50%     80646.000000  580767.000000   3804.000000   3894.000000    0.960000  \n",
       "75%    126960.000000  685783.750000   9878.000000  10108.000000    0.960000  \n",
       "max    464520.000000  805709.000000  85677.000000  99107.000000    0.980000  "
      ]
     },
     "execution_count": 126,
     "metadata": {},
     "output_type": "execute_result"
    }
   ],
   "source": [
    "# gives the measure of dispersion and the measure of central tendency \n",
    "df.describe()"
   ]
  },
  {
   "cell_type": "code",
   "execution_count": 127,
   "id": "15cb23ee",
   "metadata": {},
   "outputs": [
    {
     "data": {
      "text/plain": [
       "loan_id           int64\n",
       "status           object\n",
       "nooftrans         int64\n",
       "ageindays         int64\n",
       "95unemp         float64\n",
       "96unemp         float64\n",
       "type             object\n",
       "loanamount        int64\n",
       "birth_number      int64\n",
       "crime95           int64\n",
       "crime96           int64\n",
       "ratiopaid       float64\n",
       "dtype: object"
      ]
     },
     "execution_count": 127,
     "metadata": {},
     "output_type": "execute_result"
    }
   ],
   "source": [
    "# to know the datatypes of the each columns\n",
    "df.dtypes"
   ]
  },
  {
   "cell_type": "code",
   "execution_count": 128,
   "id": "9f65019c",
   "metadata": {},
   "outputs": [
    {
     "data": {
      "text/plain": [
       "array([450204, 395423, 620209, 445613, 420128, 455703, 391130, 670924,\n",
       "       400827, 471008, 421210, 405212, 565913, 510806, 556119, 610930,\n",
       "       480521, 775510, 455612, 636231, 686220, 466017, 411111, 570429,\n",
       "       755912, 575122, 405724, 475722, 680722, 405420, 570919, 635125,\n",
       "       765609, 391206, 406204, 766012, 745620, 430104, 655716, 666210,\n",
       "       400326, 706007, 790214, 805709, 565425, 400907, 581007, 626228,\n",
       "       506020, 670210, 395315, 720206, 655604, 361223, 571101, 521128,\n",
       "       641016, 525726, 351225, 515625, 456227, 540309, 575628, 635204,\n",
       "       760916, 495624, 406101, 680506, 595810, 455908, 490724, 466007,\n",
       "       515407, 565313, 675529, 610502, 715920, 350721, 726227, 640313,\n",
       "       735515, 705912, 596122, 680909, 520717, 795406, 351003, 510410,\n",
       "       631012, 805430, 536225, 406015, 561230, 495308, 575127, 721203,\n",
       "       700428, 485812, 786121, 530618, 431126, 620523, 790326, 636224,\n",
       "       680129, 570929, 640513, 620911, 575906, 705210, 406202, 380916,\n",
       "       490518, 371104, 581126, 620710, 460401, 585613, 785923, 585224,\n",
       "       766230, 765106, 465119, 666024, 760808, 710210, 765508, 445531,\n",
       "       605521, 576231, 485502, 435107, 396225, 565507, 555826, 586026,\n",
       "       721210, 500410, 685128, 490216, 580527, 450924, 705219, 516116,\n",
       "       776130, 526110, 541205, 600623, 505302, 640921, 450803, 670710,\n",
       "       720623, 411015, 685414, 456003, 686030, 651029, 696225, 765206,\n",
       "       760524, 805216, 405511, 625903, 645809, 485828, 371111, 455126,\n",
       "       490107, 426109, 710803, 465331, 805127, 556104, 655122, 575305,\n",
       "       360602, 471021, 610928, 795726, 645729, 805502, 740708, 595717,\n",
       "       445420, 720403, 486018, 515411, 441212, 370902, 415913, 711009,\n",
       "       725812, 390227, 685907, 610819, 430705, 551129, 730530, 650307,\n",
       "       591217, 581207, 790316, 405525, 600820, 641014, 530505, 560218,\n",
       "       761125, 370517, 775527, 440801, 540320, 705505, 695525, 780907,\n",
       "       760318, 740707, 410728, 700726, 635512, 590523, 630516, 765120,\n",
       "       471114, 730216, 680413, 626019], dtype=int64)"
      ]
     },
     "execution_count": 128,
     "metadata": {},
     "output_type": "execute_result"
    }
   ],
   "source": [
    "# checking the unique values present in a single column\n",
    "df.birth_number.unique()"
   ]
  },
  {
   "cell_type": "code",
   "execution_count": 169,
   "id": "1fc081a8",
   "metadata": {},
   "outputs": [
    {
     "data": {
      "image/png": "[encoded data removed]",
      "text/plain": [
       "<Figure size 360x360 with 1 Axes>"
      ]
     },
     "metadata": {
      "needs_background": "light"
     },
     "output_type": "display_data"
    }
   ],
   "source": [
    "# plot shows the number of transactions happened.\n",
    "figure = sns.displot(df['nooftrans'])\n",
    "figure.savefig('nooftransaction.png')"
   ]
  },
  {
   "cell_type": "code",
   "execution_count": 170,
   "id": "946555e9",
   "metadata": {},
   "outputs": [
    {
     "data": {
      "image/png": "[encoded data removed]",
      "text/plain": [
       "<Figure size 402.875x360 with 1 Axes>"
      ]
     },
     "metadata": {
      "needs_background": "light"
     },
     "output_type": "display_data"
    }
   ],
   "source": [
    "# number of transactions made by the status A and B meaning by good and bad customers\n",
    "figure1 = sns.displot(df,x='nooftrans',hue='status')\n",
    "figure1.savefig('withstatus.png')"
   ]
  },
  {
   "cell_type": "code",
   "execution_count": 131,
   "id": "25e68ed1",
   "metadata": {},
   "outputs": [
    {
     "data": {
      "text/plain": [
       "<AxesSubplot:xlabel='loanamount', ylabel='status'>"
      ]
     },
     "execution_count": 131,
     "metadata": {},
     "output_type": "execute_result"
    },
    {
     "data": {
      "image/png": "[encoded data removed]",
      "text/plain": [
       "<Figure size 432x288 with 1 Axes>"
      ]
     },
     "metadata": {
      "needs_background": "light"
     },
     "output_type": "display_data"
    }
   ],
   "source": [
    "sns.barplot(x='loanamount', y ='status', data=df)"
   ]
  },
  {
   "cell_type": "code",
   "execution_count": 132,
   "id": "cf5963d8",
   "metadata": {},
   "outputs": [
    {
     "data": {
      "text/plain": [
       "A    203\n",
       "B     31\n",
       "Name: status, dtype: int64"
      ]
     },
     "execution_count": 132,
     "metadata": {},
     "output_type": "execute_result"
    }
   ],
   "source": [
    "df['status'].value_counts()"
   ]
  },
  {
   "cell_type": "code",
   "execution_count": 133,
   "id": "943c5191",
   "metadata": {},
   "outputs": [
    {
     "data": {
      "text/plain": [
       "<seaborn.axisgrid.FacetGrid at 0x11eea36ec10>"
      ]
     },
     "execution_count": 133,
     "metadata": {},
     "output_type": "execute_result"
    },
    {
     "data": {
      "image/png": "[encoded data removed]",
      "text/plain": [
       "<Figure size 360x360 with 1 Axes>"
      ]
     },
     "metadata": {
      "needs_background": "light"
     },
     "output_type": "display_data"
    }
   ],
   "source": [
    "sns.displot(df['ageindays'])"
   ]
  },
  {
   "cell_type": "code",
   "execution_count": 134,
   "id": "d343dddd",
   "metadata": {},
   "outputs": [
    {
     "data": {
      "image/png": "[encoded data removed]",
      "text/plain": [
       "<Figure size 432x288 with 1 Axes>"
      ]
     },
     "metadata": {
      "needs_background": "light"
     },
     "output_type": "display_data"
    }
   ],
   "source": [
    "# plot represents the unemployment rate in the year 1995 and 1996\n",
    "fig = sns.kdeplot(df['95unemp'], shade=True, color=\"r\")\n",
    "fig = sns.kdeplot(df['96unemp'], shade=True, color=\"b\")\n",
    "plt.show()\n"
   ]
  },
  {
   "cell_type": "markdown",
   "id": "4c0c4f11",
   "metadata": {},
   "source": [
    "## Check for multicolinarity"
   ]
  },
  {
   "cell_type": "code",
   "execution_count": 135,
   "id": "e06716fc",
   "metadata": {},
   "outputs": [
    {
     "data": {
      "text/html": [
       "<div>\n",
       "<style scoped>\n",
       "    .dataframe tbody tr th:only-of-type {\n",
       "        vertical-align: middle;\n",
       "    }\n",
       "\n",
       "    .dataframe tbody tr th {\n",
       "        vertical-align: top;\n",
       "    }\n",
       "\n",
       "    .dataframe thead th {\n",
       "        text-align: right;\n",
       "    }\n",
       "</style>\n",
       "<table border=\"1\" class=\"dataframe\">\n",
       "  <thead>\n",
       "    <tr style=\"text-align: right;\">\n",
       "      <th></th>\n",
       "      <th>loan_id</th>\n",
       "      <th>nooftrans</th>\n",
       "      <th>ageindays</th>\n",
       "      <th>95unemp</th>\n",
       "      <th>96unemp</th>\n",
       "      <th>loanamount</th>\n",
       "      <th>birth_number</th>\n",
       "      <th>crime95</th>\n",
       "      <th>crime96</th>\n",
       "      <th>ratiopaid</th>\n",
       "    </tr>\n",
       "  </thead>\n",
       "  <tbody>\n",
       "    <tr>\n",
       "      <th>loan_id</th>\n",
       "      <td>1.000000</td>\n",
       "      <td>0.108456</td>\n",
       "      <td>0.077547</td>\n",
       "      <td>-0.083545</td>\n",
       "      <td>-0.078858</td>\n",
       "      <td>0.082673</td>\n",
       "      <td>0.151662</td>\n",
       "      <td>0.144176</td>\n",
       "      <td>0.143709</td>\n",
       "      <td>0.120034</td>\n",
       "    </tr>\n",
       "    <tr>\n",
       "      <th>nooftrans</th>\n",
       "      <td>0.108456</td>\n",
       "      <td>1.000000</td>\n",
       "      <td>0.896726</td>\n",
       "      <td>-0.107024</td>\n",
       "      <td>-0.142902</td>\n",
       "      <td>0.200899</td>\n",
       "      <td>0.085988</td>\n",
       "      <td>0.061994</td>\n",
       "      <td>0.062902</td>\n",
       "      <td>0.353508</td>\n",
       "    </tr>\n",
       "    <tr>\n",
       "      <th>ageindays</th>\n",
       "      <td>0.077547</td>\n",
       "      <td>0.896726</td>\n",
       "      <td>1.000000</td>\n",
       "      <td>-0.159444</td>\n",
       "      <td>-0.194317</td>\n",
       "      <td>0.278373</td>\n",
       "      <td>0.065923</td>\n",
       "      <td>0.066678</td>\n",
       "      <td>0.067470</td>\n",
       "      <td>0.439152</td>\n",
       "    </tr>\n",
       "    <tr>\n",
       "      <th>95unemp</th>\n",
       "      <td>-0.083545</td>\n",
       "      <td>-0.107024</td>\n",
       "      <td>-0.159444</td>\n",
       "      <td>1.000000</td>\n",
       "      <td>0.953504</td>\n",
       "      <td>-0.012914</td>\n",
       "      <td>0.055640</td>\n",
       "      <td>-0.534407</td>\n",
       "      <td>-0.540018</td>\n",
       "      <td>-0.049599</td>\n",
       "    </tr>\n",
       "    <tr>\n",
       "      <th>96unemp</th>\n",
       "      <td>-0.078858</td>\n",
       "      <td>-0.142902</td>\n",
       "      <td>-0.194317</td>\n",
       "      <td>0.953504</td>\n",
       "      <td>1.000000</td>\n",
       "      <td>-0.009944</td>\n",
       "      <td>0.041388</td>\n",
       "      <td>-0.568564</td>\n",
       "      <td>-0.572576</td>\n",
       "      <td>-0.050709</td>\n",
       "    </tr>\n",
       "    <tr>\n",
       "      <th>loanamount</th>\n",
       "      <td>0.082673</td>\n",
       "      <td>0.200899</td>\n",
       "      <td>0.278373</td>\n",
       "      <td>-0.012914</td>\n",
       "      <td>-0.009944</td>\n",
       "      <td>1.000000</td>\n",
       "      <td>0.008705</td>\n",
       "      <td>-0.007111</td>\n",
       "      <td>-0.005546</td>\n",
       "      <td>0.596621</td>\n",
       "    </tr>\n",
       "    <tr>\n",
       "      <th>birth_number</th>\n",
       "      <td>0.151662</td>\n",
       "      <td>0.085988</td>\n",
       "      <td>0.065923</td>\n",
       "      <td>0.055640</td>\n",
       "      <td>0.041388</td>\n",
       "      <td>0.008705</td>\n",
       "      <td>1.000000</td>\n",
       "      <td>-0.019644</td>\n",
       "      <td>-0.019462</td>\n",
       "      <td>0.034583</td>\n",
       "    </tr>\n",
       "    <tr>\n",
       "      <th>crime95</th>\n",
       "      <td>0.144176</td>\n",
       "      <td>0.061994</td>\n",
       "      <td>0.066678</td>\n",
       "      <td>-0.534407</td>\n",
       "      <td>-0.568564</td>\n",
       "      <td>-0.007111</td>\n",
       "      <td>-0.019644</td>\n",
       "      <td>1.000000</td>\n",
       "      <td>0.999728</td>\n",
       "      <td>0.018829</td>\n",
       "    </tr>\n",
       "    <tr>\n",
       "      <th>crime96</th>\n",
       "      <td>0.143709</td>\n",
       "      <td>0.062902</td>\n",
       "      <td>0.067470</td>\n",
       "      <td>-0.540018</td>\n",
       "      <td>-0.572576</td>\n",
       "      <td>-0.005546</td>\n",
       "      <td>-0.019462</td>\n",
       "      <td>0.999728</td>\n",
       "      <td>1.000000</td>\n",
       "      <td>0.020247</td>\n",
       "    </tr>\n",
       "    <tr>\n",
       "      <th>ratiopaid</th>\n",
       "      <td>0.120034</td>\n",
       "      <td>0.353508</td>\n",
       "      <td>0.439152</td>\n",
       "      <td>-0.049599</td>\n",
       "      <td>-0.050709</td>\n",
       "      <td>0.596621</td>\n",
       "      <td>0.034583</td>\n",
       "      <td>0.018829</td>\n",
       "      <td>0.020247</td>\n",
       "      <td>1.000000</td>\n",
       "    </tr>\n",
       "  </tbody>\n",
       "</table>\n",
       "</div>"
      ],
      "text/plain": [
       "               loan_id  nooftrans  ageindays   95unemp   96unemp  loanamount  \\\n",
       "loan_id       1.000000   0.108456   0.077547 -0.083545 -0.078858    0.082673   \n",
       "nooftrans     0.108456   1.000000   0.896726 -0.107024 -0.142902    0.200899   \n",
       "ageindays     0.077547   0.896726   1.000000 -0.159444 -0.194317    0.278373   \n",
       "95unemp      -0.083545  -0.107024  -0.159444  1.000000  0.953504   -0.012914   \n",
       "96unemp      -0.078858  -0.142902  -0.194317  0.953504  1.000000   -0.009944   \n",
       "loanamount    0.082673   0.200899   0.278373 -0.012914 -0.009944    1.000000   \n",
       "birth_number  0.151662   0.085988   0.065923  0.055640  0.041388    0.008705   \n",
       "crime95       0.144176   0.061994   0.066678 -0.534407 -0.568564   -0.007111   \n",
       "crime96       0.143709   0.062902   0.067470 -0.540018 -0.572576   -0.005546   \n",
       "ratiopaid     0.120034   0.353508   0.439152 -0.049599 -0.050709    0.596621   \n",
       "\n",
       "              birth_number   crime95   crime96  ratiopaid  \n",
       "loan_id           0.151662  0.144176  0.143709   0.120034  \n",
       "nooftrans         0.085988  0.061994  0.062902   0.353508  \n",
       "ageindays         0.065923  0.066678  0.067470   0.439152  \n",
       "95unemp           0.055640 -0.534407 -0.540018  -0.049599  \n",
       "96unemp           0.041388 -0.568564 -0.572576  -0.050709  \n",
       "loanamount        0.008705 -0.007111 -0.005546   0.596621  \n",
       "birth_number      1.000000 -0.019644 -0.019462   0.034583  \n",
       "crime95          -0.019644  1.000000  0.999728   0.018829  \n",
       "crime96          -0.019462  0.999728  1.000000   0.020247  \n",
       "ratiopaid         0.034583  0.018829  0.020247   1.000000  "
      ]
     },
     "execution_count": 135,
     "metadata": {},
     "output_type": "execute_result"
    }
   ],
   "source": [
    "# to find the correlation between two variable\n",
    "correlation = df.corr()\n",
    "correlation"
   ]
  },
  {
   "cell_type": "code",
   "execution_count": 174,
   "id": "5e7d0762",
   "metadata": {},
   "outputs": [
    {
     "data": {
      "image/png": "[encoded data removed]",
      "text/plain": [
       "<Figure size 720x576 with 2 Axes>"
      ]
     },
     "metadata": {
      "needs_background": "light"
     },
     "output_type": "display_data"
    },
    {
     "data": {
      "text/plain": [
       "<Figure size 432x288 with 0 Axes>"
      ]
     },
     "metadata": {},
     "output_type": "display_data"
    }
   ],
   "source": [
    "# correlation plot\n",
    "corr_matrix = df.corr(method='kendall')\n",
    "fig, ax=plt.subplots(figsize=(10,8))\n",
    "mask = np.triu(np.ones_like(corr_matrix,dtype=bool))\n",
    "ax = sns.heatmap(corr_matrix,mask=mask,annot=True)\n",
    "plt.show()\n",
    "plt.savefig('correlation_heatmap.png')"
   ]
  },
  {
   "cell_type": "markdown",
   "id": "4bd2f2f2",
   "metadata": {},
   "source": [
    "## Clean and Wrangling steps"
   ]
  },
  {
   "cell_type": "code",
   "execution_count": null,
   "id": "4cb6735d",
   "metadata": {},
   "outputs": [],
   "source": [
    "# clean / wrangling steps suggested:\n",
    "# bucket \n",
    "# change unemployment in to HML\n",
    "#Change crime numbers into one"
   ]
  },
  {
   "cell_type": "code",
   "execution_count": 137,
   "id": "84fc5381",
   "metadata": {},
   "outputs": [],
   "source": [
    "# having the loan_id and type in the data set doesnt make sense, so dropping it here\n",
    "df.drop(['loan_id','type'],axis=1,inplace=True)"
   ]
  },
  {
   "cell_type": "code",
   "execution_count": 138,
   "id": "ba7a31dd",
   "metadata": {},
   "outputs": [
    {
     "data": {
      "text/html": [
       "<div>\n",
       "<style scoped>\n",
       "    .dataframe tbody tr th:only-of-type {\n",
       "        vertical-align: middle;\n",
       "    }\n",
       "\n",
       "    .dataframe tbody tr th {\n",
       "        vertical-align: top;\n",
       "    }\n",
       "\n",
       "    .dataframe thead th {\n",
       "        text-align: right;\n",
       "    }\n",
       "</style>\n",
       "<table border=\"1\" class=\"dataframe\">\n",
       "  <thead>\n",
       "    <tr style=\"text-align: right;\">\n",
       "      <th></th>\n",
       "      <th>status</th>\n",
       "      <th>nooftrans</th>\n",
       "      <th>ageindays</th>\n",
       "      <th>95unemp</th>\n",
       "      <th>96unemp</th>\n",
       "      <th>loanamount</th>\n",
       "      <th>birth_number</th>\n",
       "      <th>crime95</th>\n",
       "      <th>crime96</th>\n",
       "      <th>ratiopaid</th>\n",
       "    </tr>\n",
       "  </thead>\n",
       "  <tbody>\n",
       "    <tr>\n",
       "      <th>0</th>\n",
       "      <td>A</td>\n",
       "      <td>374</td>\n",
       "      <td>2134</td>\n",
       "      <td>0.29</td>\n",
       "      <td>0.43</td>\n",
       "      <td>80952</td>\n",
       "      <td>450204</td>\n",
       "      <td>85677</td>\n",
       "      <td>99107</td>\n",
       "      <td>0.96</td>\n",
       "    </tr>\n",
       "    <tr>\n",
       "      <th>1</th>\n",
       "      <td>B</td>\n",
       "      <td>259</td>\n",
       "      <td>1364</td>\n",
       "      <td>1.51</td>\n",
       "      <td>2.07</td>\n",
       "      <td>30276</td>\n",
       "      <td>395423</td>\n",
       "      <td>2299</td>\n",
       "      <td>2354</td>\n",
       "      <td>0.92</td>\n",
       "    </tr>\n",
       "    <tr>\n",
       "      <th>2</th>\n",
       "      <td>A</td>\n",
       "      <td>225</td>\n",
       "      <td>886</td>\n",
       "      <td>4.09</td>\n",
       "      <td>4.72</td>\n",
       "      <td>30276</td>\n",
       "      <td>620209</td>\n",
       "      <td>5623</td>\n",
       "      <td>5887</td>\n",
       "      <td>0.92</td>\n",
       "    </tr>\n",
       "    <tr>\n",
       "      <th>3</th>\n",
       "      <td>A</td>\n",
       "      <td>295</td>\n",
       "      <td>1534</td>\n",
       "      <td>1.12</td>\n",
       "      <td>1.54</td>\n",
       "      <td>165960</td>\n",
       "      <td>445613</td>\n",
       "      <td>1874</td>\n",
       "      <td>1913</td>\n",
       "      <td>0.96</td>\n",
       "    </tr>\n",
       "    <tr>\n",
       "      <th>4</th>\n",
       "      <td>A</td>\n",
       "      <td>209</td>\n",
       "      <td>970</td>\n",
       "      <td>4.75</td>\n",
       "      <td>5.44</td>\n",
       "      <td>102876</td>\n",
       "      <td>420128</td>\n",
       "      <td>18782</td>\n",
       "      <td>18347</td>\n",
       "      <td>0.92</td>\n",
       "    </tr>\n",
       "  </tbody>\n",
       "</table>\n",
       "</div>"
      ],
      "text/plain": [
       "  status  nooftrans  ageindays  95unemp  96unemp  loanamount  birth_number  \\\n",
       "0      A        374       2134     0.29     0.43       80952        450204   \n",
       "1      B        259       1364     1.51     2.07       30276        395423   \n",
       "2      A        225        886     4.09     4.72       30276        620209   \n",
       "3      A        295       1534     1.12     1.54      165960        445613   \n",
       "4      A        209        970     4.75     5.44      102876        420128   \n",
       "\n",
       "   crime95  crime96  ratiopaid  \n",
       "0    85677    99107       0.96  \n",
       "1     2299     2354       0.92  \n",
       "2     5623     5887       0.92  \n",
       "3     1874     1913       0.96  \n",
       "4    18782    18347       0.92  "
      ]
     },
     "execution_count": 138,
     "metadata": {},
     "output_type": "execute_result"
    }
   ],
   "source": [
    "df.head()"
   ]
  },
  {
   "cell_type": "markdown",
   "id": "34346979",
   "metadata": {},
   "source": [
    "# Preprocessing"
   ]
  },
  {
   "cell_type": "code",
   "execution_count": null,
   "id": "a6c21d2d",
   "metadata": {},
   "outputs": [],
   "source": [
    "# split numerical and categorical data\n",
    "#scale them\n",
    "# clean /wrangling steps suggested :\n",
    "# bucket into categories any fields \n",
    "# should we drop any columns ? (iterative process)\n",
    "# extract gender from birth_number\n",
    "# data type changes \n",
    "#drop highly correlated features \n",
    "#create avg of criminality / unempl rate \n",
    "# crime - divide by population \n",
    "# bring in any missing fields \n",
    "# change unempl into HML \n",
    "# change crime numbers into one column - sum the two columns \n",
    "#bring in the C and D statuses - and then using a function map to good or bad \n",
    "# OR multi class regression ?\n",
    "# k symbol might be worth including \n",
    "# loan duration \n",
    "\n",
    "#feature engineering - take the columns and make more useful \n"
   ]
  },
  {
   "cell_type": "code",
   "execution_count": 139,
   "id": "985ac377",
   "metadata": {},
   "outputs": [],
   "source": [
    "# extracting categorical data from the data set\n",
    "df_cat= df.select_dtypes(include = object)"
   ]
  },
  {
   "cell_type": "code",
   "execution_count": 140,
   "id": "1bc1bcaf",
   "metadata": {},
   "outputs": [
    {
     "data": {
      "text/html": [
       "<div>\n",
       "<style scoped>\n",
       "    .dataframe tbody tr th:only-of-type {\n",
       "        vertical-align: middle;\n",
       "    }\n",
       "\n",
       "    .dataframe tbody tr th {\n",
       "        vertical-align: top;\n",
       "    }\n",
       "\n",
       "    .dataframe thead th {\n",
       "        text-align: right;\n",
       "    }\n",
       "</style>\n",
       "<table border=\"1\" class=\"dataframe\">\n",
       "  <thead>\n",
       "    <tr style=\"text-align: right;\">\n",
       "      <th></th>\n",
       "      <th>status</th>\n",
       "    </tr>\n",
       "  </thead>\n",
       "  <tbody>\n",
       "    <tr>\n",
       "      <th>0</th>\n",
       "      <td>A</td>\n",
       "    </tr>\n",
       "    <tr>\n",
       "      <th>1</th>\n",
       "      <td>B</td>\n",
       "    </tr>\n",
       "    <tr>\n",
       "      <th>2</th>\n",
       "      <td>A</td>\n",
       "    </tr>\n",
       "    <tr>\n",
       "      <th>3</th>\n",
       "      <td>A</td>\n",
       "    </tr>\n",
       "    <tr>\n",
       "      <th>4</th>\n",
       "      <td>A</td>\n",
       "    </tr>\n",
       "    <tr>\n",
       "      <th>...</th>\n",
       "      <td>...</td>\n",
       "    </tr>\n",
       "    <tr>\n",
       "      <th>229</th>\n",
       "      <td>A</td>\n",
       "    </tr>\n",
       "    <tr>\n",
       "      <th>230</th>\n",
       "      <td>A</td>\n",
       "    </tr>\n",
       "    <tr>\n",
       "      <th>231</th>\n",
       "      <td>A</td>\n",
       "    </tr>\n",
       "    <tr>\n",
       "      <th>232</th>\n",
       "      <td>A</td>\n",
       "    </tr>\n",
       "    <tr>\n",
       "      <th>233</th>\n",
       "      <td>A</td>\n",
       "    </tr>\n",
       "  </tbody>\n",
       "</table>\n",
       "<p>234 rows × 1 columns</p>\n",
       "</div>"
      ],
      "text/plain": [
       "    status\n",
       "0        A\n",
       "1        B\n",
       "2        A\n",
       "3        A\n",
       "4        A\n",
       "..     ...\n",
       "229      A\n",
       "230      A\n",
       "231      A\n",
       "232      A\n",
       "233      A\n",
       "\n",
       "[234 rows x 1 columns]"
      ]
     },
     "execution_count": 140,
     "metadata": {},
     "output_type": "execute_result"
    }
   ],
   "source": [
    "df_cat"
   ]
  },
  {
   "cell_type": "code",
   "execution_count": 141,
   "id": "0b58cdc8",
   "metadata": {},
   "outputs": [],
   "source": [
    "# seperating the numerical data from the data set\n",
    "#this is the prediction X\n",
    "x= df.select_dtypes(include = np.number)"
   ]
  },
  {
   "cell_type": "code",
   "execution_count": 142,
   "id": "6c281e71",
   "metadata": {},
   "outputs": [
    {
     "data": {
      "text/html": [
       "<div>\n",
       "<style scoped>\n",
       "    .dataframe tbody tr th:only-of-type {\n",
       "        vertical-align: middle;\n",
       "    }\n",
       "\n",
       "    .dataframe tbody tr th {\n",
       "        vertical-align: top;\n",
       "    }\n",
       "\n",
       "    .dataframe thead th {\n",
       "        text-align: right;\n",
       "    }\n",
       "</style>\n",
       "<table border=\"1\" class=\"dataframe\">\n",
       "  <thead>\n",
       "    <tr style=\"text-align: right;\">\n",
       "      <th></th>\n",
       "      <th>nooftrans</th>\n",
       "      <th>ageindays</th>\n",
       "      <th>95unemp</th>\n",
       "      <th>96unemp</th>\n",
       "      <th>loanamount</th>\n",
       "      <th>birth_number</th>\n",
       "      <th>crime95</th>\n",
       "      <th>crime96</th>\n",
       "      <th>ratiopaid</th>\n",
       "    </tr>\n",
       "  </thead>\n",
       "  <tbody>\n",
       "    <tr>\n",
       "      <th>0</th>\n",
       "      <td>374</td>\n",
       "      <td>2134</td>\n",
       "      <td>0.29</td>\n",
       "      <td>0.43</td>\n",
       "      <td>80952</td>\n",
       "      <td>450204</td>\n",
       "      <td>85677</td>\n",
       "      <td>99107</td>\n",
       "      <td>0.96</td>\n",
       "    </tr>\n",
       "    <tr>\n",
       "      <th>1</th>\n",
       "      <td>259</td>\n",
       "      <td>1364</td>\n",
       "      <td>1.51</td>\n",
       "      <td>2.07</td>\n",
       "      <td>30276</td>\n",
       "      <td>395423</td>\n",
       "      <td>2299</td>\n",
       "      <td>2354</td>\n",
       "      <td>0.92</td>\n",
       "    </tr>\n",
       "    <tr>\n",
       "      <th>2</th>\n",
       "      <td>225</td>\n",
       "      <td>886</td>\n",
       "      <td>4.09</td>\n",
       "      <td>4.72</td>\n",
       "      <td>30276</td>\n",
       "      <td>620209</td>\n",
       "      <td>5623</td>\n",
       "      <td>5887</td>\n",
       "      <td>0.92</td>\n",
       "    </tr>\n",
       "    <tr>\n",
       "      <th>3</th>\n",
       "      <td>295</td>\n",
       "      <td>1534</td>\n",
       "      <td>1.12</td>\n",
       "      <td>1.54</td>\n",
       "      <td>165960</td>\n",
       "      <td>445613</td>\n",
       "      <td>1874</td>\n",
       "      <td>1913</td>\n",
       "      <td>0.96</td>\n",
       "    </tr>\n",
       "    <tr>\n",
       "      <th>4</th>\n",
       "      <td>209</td>\n",
       "      <td>970</td>\n",
       "      <td>4.75</td>\n",
       "      <td>5.44</td>\n",
       "      <td>102876</td>\n",
       "      <td>420128</td>\n",
       "      <td>18782</td>\n",
       "      <td>18347</td>\n",
       "      <td>0.92</td>\n",
       "    </tr>\n",
       "  </tbody>\n",
       "</table>\n",
       "</div>"
      ],
      "text/plain": [
       "   nooftrans  ageindays  95unemp  96unemp  loanamount  birth_number  crime95  \\\n",
       "0        374       2134     0.29     0.43       80952        450204    85677   \n",
       "1        259       1364     1.51     2.07       30276        395423     2299   \n",
       "2        225        886     4.09     4.72       30276        620209     5623   \n",
       "3        295       1534     1.12     1.54      165960        445613     1874   \n",
       "4        209        970     4.75     5.44      102876        420128    18782   \n",
       "\n",
       "   crime96  ratiopaid  \n",
       "0    99107       0.96  \n",
       "1     2354       0.92  \n",
       "2     5887       0.92  \n",
       "3     1913       0.96  \n",
       "4    18347       0.92  "
      ]
     },
     "execution_count": 142,
     "metadata": {},
     "output_type": "execute_result"
    }
   ],
   "source": [
    "x.head()"
   ]
  },
  {
   "cell_type": "code",
   "execution_count": 143,
   "id": "2aabe505",
   "metadata": {},
   "outputs": [
    {
     "data": {
      "text/html": [
       "<div>\n",
       "<style scoped>\n",
       "    .dataframe tbody tr th:only-of-type {\n",
       "        vertical-align: middle;\n",
       "    }\n",
       "\n",
       "    .dataframe tbody tr th {\n",
       "        vertical-align: top;\n",
       "    }\n",
       "\n",
       "    .dataframe thead th {\n",
       "        text-align: right;\n",
       "    }\n",
       "</style>\n",
       "<table border=\"1\" class=\"dataframe\">\n",
       "  <thead>\n",
       "    <tr style=\"text-align: right;\">\n",
       "      <th></th>\n",
       "      <th>status_B</th>\n",
       "    </tr>\n",
       "  </thead>\n",
       "  <tbody>\n",
       "    <tr>\n",
       "      <th>0</th>\n",
       "      <td>0</td>\n",
       "    </tr>\n",
       "    <tr>\n",
       "      <th>1</th>\n",
       "      <td>1</td>\n",
       "    </tr>\n",
       "    <tr>\n",
       "      <th>2</th>\n",
       "      <td>0</td>\n",
       "    </tr>\n",
       "    <tr>\n",
       "      <th>3</th>\n",
       "      <td>0</td>\n",
       "    </tr>\n",
       "    <tr>\n",
       "      <th>4</th>\n",
       "      <td>0</td>\n",
       "    </tr>\n",
       "  </tbody>\n",
       "</table>\n",
       "</div>"
      ],
      "text/plain": [
       "   status_B\n",
       "0         0\n",
       "1         1\n",
       "2         0\n",
       "3         0\n",
       "4         0"
      ]
     },
     "execution_count": 143,
     "metadata": {},
     "output_type": "execute_result"
    }
   ],
   "source": [
    "# getting the dummy values. \n",
    "categorical = pd.get_dummies(df_cat,columns=['status'],drop_first=True)\n",
    "categorical.head()"
   ]
  },
  {
   "cell_type": "code",
   "execution_count": 144,
   "id": "ee0bb68e",
   "metadata": {},
   "outputs": [],
   "source": [
    "# numerical scaling\n",
    "from sklearn.preprocessing import Normalizer"
   ]
  },
  {
   "cell_type": "code",
   "execution_count": 145,
   "id": "71724322",
   "metadata": {},
   "outputs": [
    {
     "data": {
      "text/html": [
       "<div>\n",
       "<style scoped>\n",
       "    .dataframe tbody tr th:only-of-type {\n",
       "        vertical-align: middle;\n",
       "    }\n",
       "\n",
       "    .dataframe tbody tr th {\n",
       "        vertical-align: top;\n",
       "    }\n",
       "\n",
       "    .dataframe thead th {\n",
       "        text-align: right;\n",
       "    }\n",
       "</style>\n",
       "<table border=\"1\" class=\"dataframe\">\n",
       "  <thead>\n",
       "    <tr style=\"text-align: right;\">\n",
       "      <th></th>\n",
       "      <th>0</th>\n",
       "      <th>1</th>\n",
       "      <th>2</th>\n",
       "      <th>3</th>\n",
       "      <th>4</th>\n",
       "      <th>5</th>\n",
       "      <th>6</th>\n",
       "      <th>7</th>\n",
       "      <th>8</th>\n",
       "    </tr>\n",
       "  </thead>\n",
       "  <tbody>\n",
       "    <tr>\n",
       "      <th>0</th>\n",
       "      <td>0.000786</td>\n",
       "      <td>0.004485</td>\n",
       "      <td>6.094747e-07</td>\n",
       "      <td>9.037038e-07</td>\n",
       "      <td>0.170132</td>\n",
       "      <td>0.946165</td>\n",
       "      <td>0.180062</td>\n",
       "      <td>0.208287</td>\n",
       "      <td>0.000002</td>\n",
       "    </tr>\n",
       "    <tr>\n",
       "      <th>1</th>\n",
       "      <td>0.000653</td>\n",
       "      <td>0.003439</td>\n",
       "      <td>3.807397e-06</td>\n",
       "      <td>5.219411e-06</td>\n",
       "      <td>0.076340</td>\n",
       "      <td>0.997041</td>\n",
       "      <td>0.005797</td>\n",
       "      <td>0.005936</td>\n",
       "      <td>0.000002</td>\n",
       "    </tr>\n",
       "    <tr>\n",
       "      <th>2</th>\n",
       "      <td>0.000362</td>\n",
       "      <td>0.001427</td>\n",
       "      <td>6.586135e-06</td>\n",
       "      <td>7.600625e-06</td>\n",
       "      <td>0.048753</td>\n",
       "      <td>0.998724</td>\n",
       "      <td>0.009055</td>\n",
       "      <td>0.009480</td>\n",
       "      <td>0.000001</td>\n",
       "    </tr>\n",
       "    <tr>\n",
       "      <th>3</th>\n",
       "      <td>0.000620</td>\n",
       "      <td>0.003226</td>\n",
       "      <td>2.355295e-06</td>\n",
       "      <td>3.238531e-06</td>\n",
       "      <td>0.349004</td>\n",
       "      <td>0.937098</td>\n",
       "      <td>0.003941</td>\n",
       "      <td>0.004023</td>\n",
       "      <td>0.000002</td>\n",
       "    </tr>\n",
       "    <tr>\n",
       "      <th>4</th>\n",
       "      <td>0.000482</td>\n",
       "      <td>0.002238</td>\n",
       "      <td>1.096143e-05</td>\n",
       "      <td>1.255373e-05</td>\n",
       "      <td>0.237404</td>\n",
       "      <td>0.969517</td>\n",
       "      <td>0.043343</td>\n",
       "      <td>0.042339</td>\n",
       "      <td>0.000002</td>\n",
       "    </tr>\n",
       "  </tbody>\n",
       "</table>\n",
       "</div>"
      ],
      "text/plain": [
       "          0         1             2             3         4         5  \\\n",
       "0  0.000786  0.004485  6.094747e-07  9.037038e-07  0.170132  0.946165   \n",
       "1  0.000653  0.003439  3.807397e-06  5.219411e-06  0.076340  0.997041   \n",
       "2  0.000362  0.001427  6.586135e-06  7.600625e-06  0.048753  0.998724   \n",
       "3  0.000620  0.003226  2.355295e-06  3.238531e-06  0.349004  0.937098   \n",
       "4  0.000482  0.002238  1.096143e-05  1.255373e-05  0.237404  0.969517   \n",
       "\n",
       "          6         7         8  \n",
       "0  0.180062  0.208287  0.000002  \n",
       "1  0.005797  0.005936  0.000002  \n",
       "2  0.009055  0.009480  0.000001  \n",
       "3  0.003941  0.004023  0.000002  \n",
       "4  0.043343  0.042339  0.000002  "
      ]
     },
     "execution_count": 145,
     "metadata": {},
     "output_type": "execute_result"
    }
   ],
   "source": [
    "#scaling the umerical features normaliazed\n",
    "#optional with logistics\n",
    "# once we scale we convert the arrayback to a dataframe\n",
    "scaler = Normalizer().fit(x)\n",
    "scaled = scaler.transform(x)\n",
    "scaled_x = pd.DataFrame(scaled)\n",
    "scaled_x.head()"
   ]
  },
  {
   "cell_type": "code",
   "execution_count": 146,
   "id": "78fc60c0",
   "metadata": {},
   "outputs": [],
   "source": [
    "# if you had more than one categorical features than just the label(status) then we would concat\n",
    "# X=np.concatenate(scaled_x,categorical,axis =1)"
   ]
  },
  {
   "cell_type": "code",
   "execution_count": 147,
   "id": "65153677",
   "metadata": {},
   "outputs": [],
   "source": [
    "#independent variable categorical\n",
    "y = categorical['status_B']\n",
    "#independent variabke scaled_x\n",
    "X=scaled_x"
   ]
  },
  {
   "cell_type": "code",
   "execution_count": 148,
   "id": "a7cb5c83",
   "metadata": {},
   "outputs": [
    {
     "data": {
      "text/plain": [
       "0      0\n",
       "1      1\n",
       "2      0\n",
       "3      0\n",
       "4      0\n",
       "      ..\n",
       "229    0\n",
       "230    0\n",
       "231    0\n",
       "232    0\n",
       "233    0\n",
       "Name: status_B, Length: 234, dtype: uint8"
      ]
     },
     "execution_count": 148,
     "metadata": {},
     "output_type": "execute_result"
    }
   ],
   "source": [
    "y"
   ]
  },
  {
   "cell_type": "code",
   "execution_count": 149,
   "id": "5b992eff",
   "metadata": {},
   "outputs": [
    {
     "data": {
      "text/html": [
       "<div>\n",
       "<style scoped>\n",
       "    .dataframe tbody tr th:only-of-type {\n",
       "        vertical-align: middle;\n",
       "    }\n",
       "\n",
       "    .dataframe tbody tr th {\n",
       "        vertical-align: top;\n",
       "    }\n",
       "\n",
       "    .dataframe thead th {\n",
       "        text-align: right;\n",
       "    }\n",
       "</style>\n",
       "<table border=\"1\" class=\"dataframe\">\n",
       "  <thead>\n",
       "    <tr style=\"text-align: right;\">\n",
       "      <th></th>\n",
       "      <th>0</th>\n",
       "      <th>1</th>\n",
       "      <th>2</th>\n",
       "      <th>3</th>\n",
       "      <th>4</th>\n",
       "      <th>5</th>\n",
       "      <th>6</th>\n",
       "      <th>7</th>\n",
       "      <th>8</th>\n",
       "    </tr>\n",
       "  </thead>\n",
       "  <tbody>\n",
       "    <tr>\n",
       "      <th>0</th>\n",
       "      <td>0.000786</td>\n",
       "      <td>0.004485</td>\n",
       "      <td>6.094747e-07</td>\n",
       "      <td>9.037038e-07</td>\n",
       "      <td>0.170132</td>\n",
       "      <td>0.946165</td>\n",
       "      <td>0.180062</td>\n",
       "      <td>0.208287</td>\n",
       "      <td>0.000002</td>\n",
       "    </tr>\n",
       "    <tr>\n",
       "      <th>1</th>\n",
       "      <td>0.000653</td>\n",
       "      <td>0.003439</td>\n",
       "      <td>3.807397e-06</td>\n",
       "      <td>5.219411e-06</td>\n",
       "      <td>0.076340</td>\n",
       "      <td>0.997041</td>\n",
       "      <td>0.005797</td>\n",
       "      <td>0.005936</td>\n",
       "      <td>0.000002</td>\n",
       "    </tr>\n",
       "    <tr>\n",
       "      <th>2</th>\n",
       "      <td>0.000362</td>\n",
       "      <td>0.001427</td>\n",
       "      <td>6.586135e-06</td>\n",
       "      <td>7.600625e-06</td>\n",
       "      <td>0.048753</td>\n",
       "      <td>0.998724</td>\n",
       "      <td>0.009055</td>\n",
       "      <td>0.009480</td>\n",
       "      <td>0.000001</td>\n",
       "    </tr>\n",
       "    <tr>\n",
       "      <th>3</th>\n",
       "      <td>0.000620</td>\n",
       "      <td>0.003226</td>\n",
       "      <td>2.355295e-06</td>\n",
       "      <td>3.238531e-06</td>\n",
       "      <td>0.349004</td>\n",
       "      <td>0.937098</td>\n",
       "      <td>0.003941</td>\n",
       "      <td>0.004023</td>\n",
       "      <td>0.000002</td>\n",
       "    </tr>\n",
       "    <tr>\n",
       "      <th>4</th>\n",
       "      <td>0.000482</td>\n",
       "      <td>0.002238</td>\n",
       "      <td>1.096143e-05</td>\n",
       "      <td>1.255373e-05</td>\n",
       "      <td>0.237404</td>\n",
       "      <td>0.969517</td>\n",
       "      <td>0.043343</td>\n",
       "      <td>0.042339</td>\n",
       "      <td>0.000002</td>\n",
       "    </tr>\n",
       "    <tr>\n",
       "      <th>...</th>\n",
       "      <td>...</td>\n",
       "      <td>...</td>\n",
       "      <td>...</td>\n",
       "      <td>...</td>\n",
       "      <td>...</td>\n",
       "      <td>...</td>\n",
       "      <td>...</td>\n",
       "      <td>...</td>\n",
       "      <td>...</td>\n",
       "    </tr>\n",
       "    <tr>\n",
       "      <th>229</th>\n",
       "      <td>0.000162</td>\n",
       "      <td>0.000885</td>\n",
       "      <td>3.729641e-07</td>\n",
       "      <td>5.530157e-07</td>\n",
       "      <td>0.057797</td>\n",
       "      <td>0.984008</td>\n",
       "      <td>0.110188</td>\n",
       "      <td>0.127460</td>\n",
       "      <td>0.000001</td>\n",
       "    </tr>\n",
       "    <tr>\n",
       "      <th>230</th>\n",
       "      <td>0.000258</td>\n",
       "      <td>0.001396</td>\n",
       "      <td>5.834141e-07</td>\n",
       "      <td>8.650623e-07</td>\n",
       "      <td>0.179611</td>\n",
       "      <td>0.947774</td>\n",
       "      <td>0.172363</td>\n",
       "      <td>0.199381</td>\n",
       "      <td>0.000002</td>\n",
       "    </tr>\n",
       "    <tr>\n",
       "      <th>231</th>\n",
       "      <td>0.000503</td>\n",
       "      <td>0.002974</td>\n",
       "      <td>4.275199e-06</td>\n",
       "      <td>4.917162e-06</td>\n",
       "      <td>0.072102</td>\n",
       "      <td>0.997386</td>\n",
       "      <td>0.002520</td>\n",
       "      <td>0.002566</td>\n",
       "      <td>0.000001</td>\n",
       "    </tr>\n",
       "    <tr>\n",
       "      <th>232</th>\n",
       "      <td>0.000444</td>\n",
       "      <td>0.002274</td>\n",
       "      <td>6.973720e-06</td>\n",
       "      <td>8.409486e-06</td>\n",
       "      <td>0.079149</td>\n",
       "      <td>0.996851</td>\n",
       "      <td>0.003094</td>\n",
       "      <td>0.003017</td>\n",
       "      <td>0.000001</td>\n",
       "    </tr>\n",
       "    <tr>\n",
       "      <th>233</th>\n",
       "      <td>0.000382</td>\n",
       "      <td>0.001836</td>\n",
       "      <td>9.025903e-06</td>\n",
       "      <td>1.024604e-05</td>\n",
       "      <td>0.202431</td>\n",
       "      <td>0.979270</td>\n",
       "      <td>0.005075</td>\n",
       "      <td>0.004816</td>\n",
       "      <td>0.000002</td>\n",
       "    </tr>\n",
       "  </tbody>\n",
       "</table>\n",
       "<p>234 rows × 9 columns</p>\n",
       "</div>"
      ],
      "text/plain": [
       "            0         1             2             3         4         5  \\\n",
       "0    0.000786  0.004485  6.094747e-07  9.037038e-07  0.170132  0.946165   \n",
       "1    0.000653  0.003439  3.807397e-06  5.219411e-06  0.076340  0.997041   \n",
       "2    0.000362  0.001427  6.586135e-06  7.600625e-06  0.048753  0.998724   \n",
       "3    0.000620  0.003226  2.355295e-06  3.238531e-06  0.349004  0.937098   \n",
       "4    0.000482  0.002238  1.096143e-05  1.255373e-05  0.237404  0.969517   \n",
       "..        ...       ...           ...           ...       ...       ...   \n",
       "229  0.000162  0.000885  3.729641e-07  5.530157e-07  0.057797  0.984008   \n",
       "230  0.000258  0.001396  5.834141e-07  8.650623e-07  0.179611  0.947774   \n",
       "231  0.000503  0.002974  4.275199e-06  4.917162e-06  0.072102  0.997386   \n",
       "232  0.000444  0.002274  6.973720e-06  8.409486e-06  0.079149  0.996851   \n",
       "233  0.000382  0.001836  9.025903e-06  1.024604e-05  0.202431  0.979270   \n",
       "\n",
       "            6         7         8  \n",
       "0    0.180062  0.208287  0.000002  \n",
       "1    0.005797  0.005936  0.000002  \n",
       "2    0.009055  0.009480  0.000001  \n",
       "3    0.003941  0.004023  0.000002  \n",
       "4    0.043343  0.042339  0.000002  \n",
       "..        ...       ...       ...  \n",
       "229  0.110188  0.127460  0.000001  \n",
       "230  0.172363  0.199381  0.000002  \n",
       "231  0.002520  0.002566  0.000001  \n",
       "232  0.003094  0.003017  0.000001  \n",
       "233  0.005075  0.004816  0.000002  \n",
       "\n",
       "[234 rows x 9 columns]"
      ]
     },
     "execution_count": 149,
     "metadata": {},
     "output_type": "execute_result"
    }
   ],
   "source": [
    "X"
   ]
  },
  {
   "cell_type": "markdown",
   "id": "4079954a",
   "metadata": {},
   "source": [
    "## train test split, get LOG REG Free"
   ]
  },
  {
   "cell_type": "code",
   "execution_count": 150,
   "id": "0d474b8d",
   "metadata": {},
   "outputs": [],
   "source": [
    "from sklearn.linear_model import LogisticRegression"
   ]
  },
  {
   "cell_type": "code",
   "execution_count": 151,
   "id": "3dcd4eca",
   "metadata": {},
   "outputs": [],
   "source": [
    "#from sklearn.model_selection import train_test_split\n",
    "from sklearn.model_selection import train_test_split \n",
    "X_train, X_test, y_train, y_test = train_test_split(X,y, test_size=0.3, random_state=40)\n"
   ]
  },
  {
   "cell_type": "markdown",
   "id": "ca96d0a4",
   "metadata": {},
   "source": [
    "# apply model and train model"
   ]
  },
  {
   "cell_type": "code",
   "execution_count": 152,
   "id": "582b6dc4",
   "metadata": {},
   "outputs": [],
   "source": [
    "# classification score\n",
    "# Logistic regression is all about accuracy\n",
    "classification = LogisticRegression(solver = 'liblinear', multi_class = 'ovr').fit(X_train,y_train)"
   ]
  },
  {
   "cell_type": "code",
   "execution_count": 153,
   "id": "3064b966",
   "metadata": {},
   "outputs": [],
   "source": [
    "# add to the parameters as wished"
   ]
  },
  {
   "cell_type": "markdown",
   "id": "01ac1a7f",
   "metadata": {},
   "source": [
    "## Evaluate accuracy the test"
   ]
  },
  {
   "cell_type": "code",
   "execution_count": 155,
   "id": "580f087f",
   "metadata": {},
   "outputs": [
    {
     "data": {
      "text/plain": [
       "array([[0.8656403 , 0.1343597 ],\n",
       "       [0.86218066, 0.13781934],\n",
       "       [0.80932745, 0.19067255],\n",
       "       [0.83869683, 0.16130317],\n",
       "       [0.84589161, 0.15410839],\n",
       "       [0.85698933, 0.14301067],\n",
       "       [0.85851847, 0.14148153],\n",
       "       [0.84488208, 0.15511792],\n",
       "       [0.85623863, 0.14376137],\n",
       "       [0.87857454, 0.12142546],\n",
       "       [0.84453454, 0.15546546],\n",
       "       [0.86373569, 0.13626431],\n",
       "       [0.8515232 , 0.1484768 ],\n",
       "       [0.85895129, 0.14104871],\n",
       "       [0.8658463 , 0.1341537 ],\n",
       "       [0.80816874, 0.19183126],\n",
       "       [0.8510142 , 0.1489858 ],\n",
       "       [0.86062557, 0.13937443],\n",
       "       [0.83449   , 0.16551   ],\n",
       "       [0.81680533, 0.18319467],\n",
       "       [0.85985847, 0.14014153],\n",
       "       [0.86402812, 0.13597188],\n",
       "       [0.86162629, 0.13837371],\n",
       "       [0.85752513, 0.14247487],\n",
       "       [0.86681933, 0.13318067],\n",
       "       [0.86395374, 0.13604626],\n",
       "       [0.8588499 , 0.1411501 ],\n",
       "       [0.85826728, 0.14173272],\n",
       "       [0.86670861, 0.13329139],\n",
       "       [0.86727011, 0.13272989],\n",
       "       [0.86428567, 0.13571433],\n",
       "       [0.85562261, 0.14437739],\n",
       "       [0.8524456 , 0.1475544 ],\n",
       "       [0.86916895, 0.13083105],\n",
       "       [0.87622419, 0.12377581],\n",
       "       [0.83529404, 0.16470596],\n",
       "       [0.87586848, 0.12413152],\n",
       "       [0.85993832, 0.14006168],\n",
       "       [0.86466983, 0.13533017],\n",
       "       [0.85917316, 0.14082684],\n",
       "       [0.86181319, 0.13818681],\n",
       "       [0.86575309, 0.13424691],\n",
       "       [0.801892  , 0.198108  ],\n",
       "       [0.85656481, 0.14343519],\n",
       "       [0.83774025, 0.16225975],\n",
       "       [0.87389406, 0.12610594],\n",
       "       [0.87409398, 0.12590602],\n",
       "       [0.83581293, 0.16418707],\n",
       "       [0.8575032 , 0.1424968 ],\n",
       "       [0.88025218, 0.11974782],\n",
       "       [0.86102375, 0.13897625],\n",
       "       [0.8568406 , 0.1431594 ],\n",
       "       [0.86117535, 0.13882465],\n",
       "       [0.84661985, 0.15338015],\n",
       "       [0.85877561, 0.14122439],\n",
       "       [0.86394231, 0.13605769],\n",
       "       [0.86898673, 0.13101327],\n",
       "       [0.84617544, 0.15382456],\n",
       "       [0.83382826, 0.16617174],\n",
       "       [0.84929377, 0.15070623],\n",
       "       [0.84166581, 0.15833419],\n",
       "       [0.84334066, 0.15665934],\n",
       "       [0.86040298, 0.13959702],\n",
       "       [0.85429153, 0.14570847],\n",
       "       [0.86017095, 0.13982905],\n",
       "       [0.86595105, 0.13404895],\n",
       "       [0.86382064, 0.13617936],\n",
       "       [0.87394647, 0.12605353],\n",
       "       [0.8672777 , 0.1327223 ],\n",
       "       [0.83786681, 0.16213319],\n",
       "       [0.86125056, 0.13874944]])"
      ]
     },
     "execution_count": 155,
     "metadata": {},
     "output_type": "execute_result"
    }
   ],
   "source": [
    "# gives the probability values according to the logistic regression curve\n",
    "probabilities = classification.predict_proba(X_test)\n",
    "probabilities"
   ]
  },
  {
   "cell_type": "code",
   "execution_count": 158,
   "id": "85351683",
   "metadata": {},
   "outputs": [
    {
     "name": "stdout",
     "output_type": "stream",
     "text": [
      "0.7817460317460317\n"
     ]
    }
   ],
   "source": [
    "# the number below is the accuracy\n",
    "preds = probabilities[:,1]\n",
    "import sklearn.metrics as metrics                   \n",
    "fpr,tpr, threshold = metrics.roc_curve(y_test,preds) # tpr- True positive rate\n",
    "roc_auc = metrics.auc(fpr,tpr)                       # fpr - False positive rate\n",
    "print (roc_auc)                                      # auc - Area under the curve, # roc - Receiver operationg characteristics"
   ]
  },
  {
   "cell_type": "markdown",
   "id": "53be53b5",
   "metadata": {},
   "source": [
    "## visualising accuracy-ROC/AUC"
   ]
  },
  {
   "cell_type": "code",
   "execution_count": 173,
   "id": "b7071cf0",
   "metadata": {},
   "outputs": [
    {
     "data": {
      "image/png": "[encoded data removed]",
      "text/plain": [
       "<Figure size 432x288 with 1 Axes>"
      ]
     },
     "metadata": {
      "needs_background": "light"
     },
     "output_type": "display_data"
    },
    {
     "data": {
      "text/plain": [
       "<Figure size 432x288 with 0 Axes>"
      ]
     },
     "metadata": {},
     "output_type": "display_data"
    }
   ],
   "source": [
    "#roc curve plot \n",
    "plt.title('Receiver Operating Characteristic')\n",
    "plt.plot(fpr,tpr, label='AUC'%roc_auc)\n",
    "plt.plot([0, 1], [0, 1], 'k--')\n",
    "plt.xlim([0.0, 1.0])\n",
    "plt.ylim([0.0, 1.05])\n",
    "plt.ylabel('true positive rate')\n",
    "plt.xlabel('false positive rate')\n",
    "plt.show()\n",
    "plt.savefig('ROC.png')"
   ]
  },
  {
   "cell_type": "markdown",
   "id": "1b5d0cd2",
   "metadata": {},
   "source": [
    "## visualizing accuracy - confusion Matrix"
   ]
  },
  {
   "cell_type": "code",
   "execution_count": 160,
   "id": "1c98c50e",
   "metadata": {},
   "outputs": [],
   "source": [
    "from sklearn.metrics import accuracy_score\n",
    "\n",
    "predictions =classification.predict(X_test)"
   ]
  },
  {
   "cell_type": "code",
   "execution_count": 161,
   "id": "f0b6d5e8",
   "metadata": {},
   "outputs": [
    {
     "data": {
      "image/png": "[encoded data removed]",
      "text/plain": [
       "<Figure size 432x288 with 2 Axes>"
      ]
     },
     "metadata": {
      "needs_background": "light"
     },
     "output_type": "display_data"
    }
   ],
   "source": [
    "from sklearn.metrics import confusion_matrix \n",
    "from sklearn.metrics import plot_confusion_matrix \n",
    "\n",
    "accuracy_score(y_test,predictions)\n",
    "confusion_matrix(y_test,predictions)\n",
    "plot_confusion_matrix(classification,X_test, y_test)\n",
    "plt.show()"
   ]
  },
  {
   "cell_type": "markdown",
   "id": "6ed32971",
   "metadata": {},
   "source": [
    "The data is imbalanced. Though it gives good percentage of roc accuracy in calculation and in the graph, the confusion matrix gives\n",
    "the bad result. Since, we are already familiar with the data, this result was expected one."
   ]
  }
 ],
 "metadata": {
  "kernelspec": {
   "display_name": "Python 3",
   "language": "python",
   "name": "python3"
  },
  "language_info": {
   "codemirror_mode": {
    "name": "ipython",
    "version": 3
   },
   "file_extension": ".py",
   "mimetype": "text/x-python",
   "name": "python",
   "nbconvert_exporter": "python",
   "pygments_lexer": "ipython3",
   "version": "3.8.10"
  },
  "toc": {
   "base_numbering": 1,
   "nav_menu": {},
   "number_sections": true,
   "sideBar": true,
   "skip_h1_title": false,
   "title_cell": "Table of Contents",
   "title_sidebar": "Contents",
   "toc_cell": false,
   "toc_position": {},
   "toc_section_display": true,
   "toc_window_display": false
  }
 },
 "nbformat": 4,
 "nbformat_minor": 5
}
